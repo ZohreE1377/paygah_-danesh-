{
 "cells": [
  {
   "cell_type": "code",
   "execution_count": 2,
   "metadata": {},
   "outputs": [],
   "source": [
    "# Load spacy model'\n",
    "import spacy\n",
    "nlp = spacy.load('en_core_web_sm')\n",
    "# Plain text\n",
    "text = \"zohre going to class\"\n",
    "# Process plain text with spacy\n",
    "doc = nlp(text)"
   ]
  },
  {
   "cell_type": "code",
   "execution_count": 3,
   "metadata": {},
   "outputs": [
    {
     "name": "stdout",
     "output_type": "stream",
     "text": [
      "[SVOTriple(subject=[zohre], verb=[going], object=[to, class])]\n"
     ]
    }
   ],
   "source": [
    "import textacy\n",
    "triples = list(textacy.extract.subject_verb_object_triples(doc))\n",
    "print(triples)"
   ]
  },
  {
   "cell_type": "code",
   "execution_count": 4,
   "metadata": {},
   "outputs": [],
   "source": [
    "import networkx as nx\n",
    "\n",
    "# Now you can use the functions and classes from the 'nx' module\n",
    "# For example:\n",
    "G = nx.Graph()\n"
   ]
  },
  {
   "cell_type": "code",
   "execution_count": 5,
   "metadata": {},
   "outputs": [
    {
     "name": "stdout",
     "output_type": "stream",
     "text": [
      "['zohre', 'to_class']\n",
      "[('zohre', 'to_class', {'action': 'going'})]\n"
     ]
    }
   ],
   "source": [
    "nodes = []\n",
    "relations = []\n",
    "# iterate over the triples\n",
    "for triple in triples:\n",
    "    # extract the Subject and Object from triple\n",
    "    node_subject = \"_\".join(map(str, triple.subject))\n",
    "    node_object  = \"_\".join(map(str, triple.object))\n",
    "    nodes.append(node_subject)\n",
    "    nodes.append(node_object)\n",
    "    # extract the relation between S and O\n",
    "    # add the attribute 'action' to the relation\n",
    "    relation = \"_\".join(map(str, triple.verb))\n",
    "    relations.append((node_subject,node_object,{'action':relation}))\n",
    "# remove duplicate nodes\n",
    "nodes = list(set(nodes))\n",
    "print(nodes)\n",
    "print(relations)\n"
   ]
  },
  {
   "cell_type": "code",
   "execution_count": 6,
   "metadata": {},
   "outputs": [],
   "source": [
    "G = nx.DiGraph()\n",
    "G.add_nodes_from(nodes)\n",
    "G.add_edges_from(relations)"
   ]
  },
  {
   "cell_type": "code",
   "execution_count": 7,
   "metadata": {},
   "outputs": [
    {
     "name": "stderr",
     "output_type": "stream",
     "text": [
      "C:\\Users\\zohreh\\AppData\\Roaming\\Python\\Python311\\site-packages\\IPython\\core\\pylabtools.py:152: UserWarning: This figure includes Axes that are not compatible with tight_layout, so results might be incorrect.\n",
      "  fig.canvas.print_figure(bytes_io, **kw)\n"
     ]
    },
    {
     "data": {
      "image/png": "[encoded data removed]",
      "text/plain": [
       "<Figure size 800x200 with 1 Axes>"
      ]
     },
     "metadata": {},
     "output_type": "display_data"
    }
   ],
   "source": [
    "import matplotlib.pyplot as plt\n",
    "# extract the attribute 'action' from edges\n",
    "edge_attribute = nx.get_edge_attributes(G, 'action')\n",
    "edges, weights = zip(*edge_attribute.items())\n",
    "# resize figure\n",
    "plt.rcParams[\"figure.figsize\"] = [8, 2]\n",
    "plt.rcParams[\"figure.autolayout\"] = True\n",
    "# set figure layout\n",
    "pos = nx.circular_layout(G)\n",
    "# draw graph\n",
    "nx.draw(G, pos, node_color='g', width=2, with_labels=True,node_size = 800)\n",
    "# draw edge attributes\n",
    "nx.draw_networkx_edge_labels(G, pos,edge_attribute, label_pos=0.5)\n",
    " \n",
    "plt.show()"
   ]
  }
 ],
 "metadata": {
  "kernelspec": {
   "display_name": "Python 3",
   "language": "python",
   "name": "python3"
  },
  "language_info": {
   "codemirror_mode": {
    "name": "ipython",
    "version": 3
   },
   "file_extension": ".py",
   "mimetype": "text/x-python",
   "name": "python",
   "nbconvert_exporter": "python",
   "pygments_lexer": "ipython3",
   "version": "3.11.3"
  },
  "orig_nbformat": 4
 },
 "nbformat": 4,
 "nbformat_minor": 2
}
